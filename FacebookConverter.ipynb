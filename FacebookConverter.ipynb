{
 "cells": [
  {
   "cell_type": "code",
   "execution_count": 30,
   "metadata": {},
   "outputs": [],
   "source": [
    "import os\n",
    "import glob\n",
    "import json\n",
    "import shutil as sh\n",
    "from tqdm import tqdm as tqdm\n",
    "from xml.etree import ElementTree"
   ]
  },
  {
   "cell_type": "code",
   "execution_count": 22,
   "metadata": {},
   "outputs": [],
   "source": [
    "class FacebookConverter:\n",
    "    \n",
    "    def __init__(self, facebook_anno_path, facebook_img_path,\\\n",
    "                 output_pascal_dir):\n",
    "        \n",
    "        self.anno_path = facebook_anno_path\n",
    "        self.imgs_path = facebook_img_path \n",
    "        \n",
    "        self.images = glob.glob(self.imgs_path+'/*.jpg')\n",
    "        \n",
    "        self.output_pascal_dir = output_pascal_dir        \n",
    "        self.pascal_annotation_dir = os.path.join(self.output_pascal_dir, \\\n",
    "                                                  \"Annotations\")\n",
    "        \n",
    "        self.pascal_images_dir = os.path.join(self.output_pascal_dir, \\\n",
    "                                             \"JPEGImages\")\n",
    "        \n",
    "\n",
    "    def _indent(self, elem, level=0):\n",
    "        i = \"\\n\" + level*\"  \"\n",
    "        if len(elem):\n",
    "            if not elem.text or not elem.text.strip():\n",
    "                elem.text = i + \"  \"\n",
    "            if not elem.tail or not elem.tail.strip():\n",
    "                elem.tail = i\n",
    "            for elem in elem:\n",
    "                self._indent(elem, level+1)\n",
    "            if not elem.tail or not elem.tail.strip():\n",
    "                elem.tail = i\n",
    "        else:\n",
    "            if level and (not elem.tail or not elem.tail.strip()):\n",
    "                elem.tail = i    \n",
    "                \n",
    "                \n",
    "    def _main_dir_create(self):\n",
    "        if not os.path.exists(self.pascal_annotation_dir):\n",
    "            os.mkdir(self.pascal_annotation_dir)                \n",
    "        if not os.path.exists(self.pascal_images_dir):\n",
    "            os.mkdir(self.pascal_images_dir)                \n",
    "                \n",
    "    def _copy_images(self):\n",
    "        print ('copying images...')\n",
    "        for i in tqdm(self.images):\n",
    "            sh.copy(i , self.pascal_images_dir)                \n",
    "                \n",
    "                \n",
    "                \n",
    "    \n",
    "    def _annotate_convertion(self):\n",
    "        \n",
    "        with open(self.anno_path) as f:   \n",
    "            d = json.load(f)  \n",
    "       \n",
    "        print ('converting annotations...')\n",
    "        \n",
    "        for i,j in tqdm(d['imgToAnns'].items()):\n",
    "\n",
    "            image_a = d['imgs'][i]\n",
    "            file_name_a = image_a['file_name'].split('/')[-1]\n",
    "         \n",
    "            root = ElementTree.Element('annotation')\n",
    "\n",
    "            # main subelement\n",
    "            folder = ElementTree.SubElement(root, 'folder')\n",
    "            folder.text = ' '\n",
    "            filename = ElementTree.SubElement(root,'filename')\n",
    "            filename.text = str(file_name_a) # filename\n",
    "            source = ElementTree.SubElement(root, 'source')\n",
    "            source.text = ' '\n",
    "            size = ElementTree.SubElement(root, 'size')\n",
    "            size.text = ''\n",
    "            segmented = ElementTree.SubElement(root, 'segmented')\n",
    "            segmented.text = '0'\n",
    "\n",
    "            # source subelement\n",
    "\n",
    "            database = ElementTree.SubElement(source, 'database')\n",
    "            database.text = 'Unknown'\n",
    "\n",
    "            annotation = ElementTree.SubElement(source, 'annotation')\n",
    "            annotation.text = 'Unknown'\n",
    "\n",
    "            image = ElementTree.SubElement(source, 'image')\n",
    "            image.text = 'Unknown'\n",
    "\n",
    "            # size subelement\n",
    "            width = ElementTree.SubElement(size, 'width')\n",
    "            width.text = str(image_a['width'])  # width\n",
    "            height = ElementTree.SubElement(size, 'height')\n",
    "            height.text = str(image_a['height']) # height\n",
    "            depth = ElementTree.SubElement(size, 'depth')\n",
    "            depth.text = ' '\n",
    "\n",
    "            bbox = d['anns'] \n",
    "            \n",
    "            for val in j:\n",
    "                anno = d['anns'][val]\n",
    "                bbox =  anno['bbox']\n",
    "\n",
    "                x_min = bbox[2] # 4.1\n",
    "                y_min = bbox[3] # 4.2\n",
    "                x_max = bbox[0] # 4.3\n",
    "                y_max = bbox[1] # 4.4\n",
    "\n",
    "                value_a = anno['utf8_string'] # 4.5\n",
    "\n",
    "                # add object in for cicle as root element\n",
    "                obj = ElementTree.SubElement(root, 'object')\n",
    "                # add object subelements in for\n",
    "                name = ElementTree.SubElement(obj, 'name')\n",
    "                name.text = 'data'\n",
    "                occluded = ElementTree.SubElement(obj, 'occluded')\n",
    "                occluded.text = '0'\n",
    "                bndbox = ElementTree.SubElement(obj, 'bndbox')\n",
    "                attributes = ElementTree.SubElement(obj, 'attributes')\n",
    "\n",
    "                # add bndbox subelements in for\n",
    "                xmin = ElementTree.SubElement(bndbox, 'xmin')\n",
    "                xmin.text = str(x_min)\n",
    "                ymin = ElementTree.SubElement(bndbox, 'ymin')\n",
    "                ymin.text = str(y_min)\n",
    "                xmax = ElementTree.SubElement(bndbox, 'xmax')\n",
    "                xmax.text = str(x_max)\n",
    "                ymax = ElementTree.SubElement(bndbox, 'ymax')\n",
    "                ymax.text = str(y_max)\n",
    "\n",
    "                # add attributes sub and sub-sub elements\n",
    "                sub_attributes = ElementTree.SubElement(attributes, 'attributes')\n",
    "                name = ElementTree.SubElement(sub_attributes, 'name')\n",
    "                name.text = 'value'\n",
    "                value = ElementTree.SubElement(sub_attributes, 'value')\n",
    "                value.text = str(value_a)\n",
    "\n",
    "            tree =ElementTree.ElementTree(root)\n",
    "            self._indent(root)\n",
    "            name = file_name_a.split('.')[0]+'.xml'\n",
    "            save_name = os.path.join(self.pascal_annotation_dir, name)\n",
    "            tree.write(save_name,  encoding='utf-8', method ='xml')\n",
    "            \n",
    "    def start_convertion(self):\n",
    "        self._main_dir_create()\n",
    "        self._copy_images()\n",
    "        self._annotate_convertion()        "
   ]
  },
  {
   "cell_type": "code",
   "execution_count": 24,
   "metadata": {},
   "outputs": [],
   "source": [
    "save_dir = '/home/alex/poker/facebook'\n",
    "facebook_anno = '/home/alex/TextOCR_0.1_val.json'\n",
    "img_path = '/home/alex/poker/background_extend'"
   ]
  },
  {
   "cell_type": "code",
   "execution_count": 28,
   "metadata": {},
   "outputs": [],
   "source": [
    "facebook = FacebookConverter(facebook_anno_path=facebook_anno, \\\n",
    "                            facebook_img_path=img_path, output_pascal_dir=save_dir)"
   ]
  },
  {
   "cell_type": "code",
   "execution_count": 31,
   "metadata": {},
   "outputs": [
    {
     "name": "stderr",
     "output_type": "stream",
     "text": [
      "100%|██████████| 37/37 [00:00<00:00, 902.67it/s]"
     ]
    },
    {
     "name": "stdout",
     "output_type": "stream",
     "text": [
      "copying images...\n"
     ]
    },
    {
     "name": "stderr",
     "output_type": "stream",
     "text": [
      "\n",
      "  1%|          | 34/3124 [00:00<00:09, 339.62it/s]"
     ]
    },
    {
     "name": "stdout",
     "output_type": "stream",
     "text": [
      "converting annotations...\n"
     ]
    },
    {
     "name": "stderr",
     "output_type": "stream",
     "text": [
      "100%|██████████| 3124/3124 [00:11<00:00, 276.98it/s]\n"
     ]
    }
   ],
   "source": [
    "facebook.start_convertion()"
   ]
  }
 ],
 "metadata": {
  "kernelspec": {
   "display_name": "Python 3",
   "language": "python",
   "name": "python3"
  },
  "language_info": {
   "codemirror_mode": {
    "name": "ipython",
    "version": 3
   },
   "file_extension": ".py",
   "mimetype": "text/x-python",
   "name": "python",
   "nbconvert_exporter": "python",
   "pygments_lexer": "ipython3",
   "version": "3.6.8"
  }
 },
 "nbformat": 4,
 "nbformat_minor": 2
}
